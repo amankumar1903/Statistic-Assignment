{
 "cells": [
  {
   "cell_type": "code",
   "execution_count": 1,
   "metadata": {},
   "outputs": [
    {
     "data": {
      "text/plain": [
       "[103,\n",
       " 127,\n",
       " 103,\n",
       " 122,\n",
       " 125,\n",
       " 127,\n",
       " 95,\n",
       " 107,\n",
       " 125,\n",
       " 97,\n",
       " 119,\n",
       " 117,\n",
       " 122,\n",
       " 91,\n",
       " 91,\n",
       " 126,\n",
       " 119,\n",
       " 117,\n",
       " 105,\n",
       " 122,\n",
       " 129,\n",
       " 107,\n",
       " 120,\n",
       " 113,\n",
       " 122,\n",
       " 102,\n",
       " 93,\n",
       " 98,\n",
       " 102,\n",
       " 113,\n",
       " 95,\n",
       " 107,\n",
       " 107,\n",
       " 101,\n",
       " 105,\n",
       " 115,\n",
       " 106,\n",
       " 107,\n",
       " 106,\n",
       " 116,\n",
       " 113,\n",
       " 129,\n",
       " 95,\n",
       " 95,\n",
       " 112,\n",
       " 125,\n",
       " 117,\n",
       " 94,\n",
       " 115,\n",
       " 123,\n",
       " 98,\n",
       " 130,\n",
       " 121,\n",
       " 121,\n",
       " 97,\n",
       " 126,\n",
       " 118,\n",
       " 90,\n",
       " 90,\n",
       " 120,\n",
       " 129,\n",
       " 117,\n",
       " 108,\n",
       " 109,\n",
       " 104,\n",
       " 121,\n",
       " 120,\n",
       " 114,\n",
       " 130,\n",
       " 114,\n",
       " 107,\n",
       " 100,\n",
       " 101,\n",
       " 104,\n",
       " 119,\n",
       " 117,\n",
       " 128,\n",
       " 109,\n",
       " 119,\n",
       " 103,\n",
       " 90,\n",
       " 118,\n",
       " 96,\n",
       " 91,\n",
       " 129,\n",
       " 108,\n",
       " 112,\n",
       " 113,\n",
       " 104,\n",
       " 114,\n",
       " 101,\n",
       " 98,\n",
       " 127,\n",
       " 106,\n",
       " 117,\n",
       " 94,\n",
       " 126,\n",
       " 97,\n",
       " 107,\n",
       " 117]"
      ]
     },
     "execution_count": 1,
     "metadata": {},
     "output_type": "execute_result"
    }
   ],
   "source": [
    "import random\n",
    "\n",
    "int_list = [random.randint(90, 130) for _ in range(100)]\n",
    "int_list\n"
   ]
  },
  {
   "cell_type": "markdown",
   "metadata": {},
   "source": [
    "(i).  Write a Python function to calculate the mean of a given list of \n",
    "    numbers.\n",
    " Create a function to find the median of a list of numbers."
   ]
  },
  {
   "cell_type": "code",
   "execution_count": 23,
   "metadata": {},
   "outputs": [
    {
     "name": "stdout",
     "output_type": "stream",
     "text": [
      "Mean: 110.46\n",
      "Median: 112.0\n"
     ]
    }
   ],
   "source": [
    "def calculate_mean(numbers):\n",
    "    return sum(numbers) / len(numbers)\n",
    "\n",
    "def calculate_median(numbers):\n",
    "    sorted_numbers = sorted(numbers)\n",
    "    n = len(sorted_numbers)\n",
    "    mid = n // 2\n",
    "    \n",
    "    if n % 2 == 0:\n",
    "        return (sorted_numbers[mid - 1] + sorted_numbers[mid]) / 2\n",
    "    else:\n",
    "        return sorted_numbers[mid]\n",
    "\n",
    "mean_value = calculate_mean(int_list)\n",
    "median_value = calculate_median(int_list)\n",
    "print(\"Mean:\", mean_value)\n",
    "print(\"Median:\", median_value)\n"
   ]
  },
  {
   "cell_type": "markdown",
   "metadata": {},
   "source": [
    "(ii). Develop a program to compute the mode of a list of integers."
   ]
  },
  {
   "cell_type": "code",
   "execution_count": 3,
   "metadata": {},
   "outputs": [
    {
     "name": "stdout",
     "output_type": "stream",
     "text": [
      "Generated list: [96, 91, 113, 119, 99, 125, 97, 126, 107, 127, 119, 118, 116, 102, 126, 124, 112, 113, 104, 96, 120, 128, 106, 90, 100, 102, 108, 129, 122, 128, 91, 117, 114, 127, 127, 122, 120, 117, 121, 118, 120, 109, 104, 93, 102, 124, 124, 93, 107, 127, 91, 92, 115, 108, 98, 123, 102, 101, 117, 129, 119, 110, 93, 117, 128, 119, 96, 98, 120, 95, 108, 119, 117, 110, 101, 128, 127, 95, 109, 91, 97, 105, 114, 105, 98, 107, 119, 96, 127, 120, 99, 110, 95, 114, 99, 117, 112, 92, 112, 92]\n",
      "Mode of the list: [119, 127, 117]\n"
     ]
    }
   ],
   "source": [
    "import random\n",
    "from collections import Counter\n",
    "\n",
    "int_list = [random.randint(90, 130) for _ in range(100)]\n",
    "\n",
    "def compute_mode(numbers):\n",
    "    count = Counter(numbers)\n",
    "    max_count = max(count.values())\n",
    "    mode = [num for num, freq in count.items() if freq == max_count]\n",
    "    return mode\n",
    "\n",
    "print(\"Generated list:\", int_list)\n",
    "\n",
    "mode = compute_mode(int_list)\n",
    "print(\"Mode of the list:\", mode)\n"
   ]
  },
  {
   "cell_type": "markdown",
   "metadata": {},
   "source": [
    "(iii). Implement a function to calculate the weighted mean of a list of \n",
    "values and  their corresponding weights."
   ]
  },
  {
   "cell_type": "code",
   "execution_count": 4,
   "metadata": {},
   "outputs": [
    {
     "name": "stdout",
     "output_type": "stream",
     "text": [
      "Weighted Mean: 110.46\n"
     ]
    }
   ],
   "source": [
    "def calculate_weighted_mean(values, weights):\n",
    "    weighted_sum = sum(value * weight for value, weight in zip(values, weights))\n",
    "    total_weight = sum(weights)\n",
    "    return weighted_sum / total_weight\n",
    "\n",
    "weights = [1] * len(int_list)\n",
    "weighted_mean_value = calculate_weighted_mean(int_list, weights)\n",
    "print(\"Weighted Mean:\", weighted_mean_value)\n"
   ]
  },
  {
   "cell_type": "markdown",
   "metadata": {},
   "source": [
    "(iv). Write a Python function to find the geometric mean of a list of positive numbers."
   ]
  },
  {
   "cell_type": "code",
   "execution_count": 5,
   "metadata": {},
   "outputs": [
    {
     "name": "stdout",
     "output_type": "stream",
     "text": [
      "Geometric Mean: 109.80893540832201\n"
     ]
    }
   ],
   "source": [
    "def calculate_geometric_mean(numbers):\n",
    "    product = 1\n",
    "    for number in numbers:\n",
    "        product *= number\n",
    "    return product ** (1/len(numbers))\n",
    "\n",
    "geometric_mean_value = calculate_geometric_mean(int_list)\n",
    "print(\"Geometric Mean:\", geometric_mean_value)\n"
   ]
  },
  {
   "cell_type": "markdown",
   "metadata": {},
   "source": [
    "(v).Create a program to calculate the harmonic mean of a list of values."
   ]
  },
  {
   "cell_type": "code",
   "execution_count": 6,
   "metadata": {},
   "outputs": [
    {
     "name": "stdout",
     "output_type": "stream",
     "text": [
      "Harmonic Mean: 109.15035702980305\n"
     ]
    }
   ],
   "source": [
    "def calculate_harmonic_mean(numbers):\n",
    "    reciprocal_sum = sum(1 / number for number in numbers)\n",
    "    return len(numbers) / reciprocal_sum\n",
    "\n",
    "harmonic_mean_value = calculate_harmonic_mean(int_list)\n",
    "print(\"Harmonic Mean:\", harmonic_mean_value)\n"
   ]
  },
  {
   "cell_type": "markdown",
   "metadata": {},
   "source": [
    "(vi). Build a function to determine the midrange of a list of numbers (average of the minimum and maximum)."
   ]
  },
  {
   "cell_type": "code",
   "execution_count": 7,
   "metadata": {},
   "outputs": [
    {
     "name": "stdout",
     "output_type": "stream",
     "text": [
      "Midrange: 109.5\n"
     ]
    }
   ],
   "source": [
    "def calculate_midrange(numbers):\n",
    "    return (min(numbers) + max(numbers)) / 2\n",
    "\n",
    "midrange_value = calculate_midrange(int_list)\n",
    "print(\"Midrange:\", midrange_value)\n"
   ]
  },
  {
   "cell_type": "markdown",
   "metadata": {},
   "source": [
    "(vii). Implement a Python program to find the trimmed mean of a list, excluding a certain percentage of \n",
    "outliers."
   ]
  },
  {
   "cell_type": "code",
   "execution_count": 8,
   "metadata": {},
   "outputs": [
    {
     "name": "stdout",
     "output_type": "stream",
     "text": [
      "Trimmed mean of the list: 110.65\n"
     ]
    }
   ],
   "source": [
    "import random\n",
    "from scipy import stats\n",
    "\n",
    "\n",
    "def compute_trimmed_mean(numbers, proportion_to_cut):\n",
    "    return stats.trim_mean(numbers, proportion_to_cut)\n",
    "\n",
    "\n",
    "trimmed_mean = compute_trimmed_mean(int_list, 0.1)\n",
    "print(\"Trimmed mean of the list:\", trimmed_mean)\n"
   ]
  },
  {
   "cell_type": "markdown",
   "metadata": {},
   "source": [
    " 2. Generate a list of 500 integers containing values between 200 to 300 and store it in the variable `int_list2`. \n",
    "\n",
    "    After generating the list, find the following:"
   ]
  },
  {
   "cell_type": "code",
   "execution_count": 9,
   "metadata": {},
   "outputs": [
    {
     "data": {
      "text/plain": [
       "[279,\n",
       " 265,\n",
       " 240,\n",
       " 265,\n",
       " 215,\n",
       " 243,\n",
       " 222,\n",
       " 256,\n",
       " 262,\n",
       " 216,\n",
       " 228,\n",
       " 300,\n",
       " 280,\n",
       " 258,\n",
       " 224,\n",
       " 260,\n",
       " 260,\n",
       " 299,\n",
       " 221,\n",
       " 270,\n",
       " 231,\n",
       " 229,\n",
       " 276,\n",
       " 247,\n",
       " 275,\n",
       " 266,\n",
       " 227,\n",
       " 244,\n",
       " 268,\n",
       " 224,\n",
       " 252,\n",
       " 266,\n",
       " 241,\n",
       " 272,\n",
       " 207,\n",
       " 282,\n",
       " 223,\n",
       " 285,\n",
       " 218,\n",
       " 238,\n",
       " 251,\n",
       " 235,\n",
       " 282,\n",
       " 254,\n",
       " 293,\n",
       " 287,\n",
       " 221,\n",
       " 266,\n",
       " 237,\n",
       " 246,\n",
       " 243,\n",
       " 219,\n",
       " 228,\n",
       " 272,\n",
       " 220,\n",
       " 244,\n",
       " 204,\n",
       " 224,\n",
       " 286,\n",
       " 255,\n",
       " 256,\n",
       " 223,\n",
       " 291,\n",
       " 211,\n",
       " 213,\n",
       " 291,\n",
       " 239,\n",
       " 220,\n",
       " 269,\n",
       " 275,\n",
       " 268,\n",
       " 241,\n",
       " 210,\n",
       " 225,\n",
       " 210,\n",
       " 250,\n",
       " 275,\n",
       " 242,\n",
       " 239,\n",
       " 299,\n",
       " 271,\n",
       " 239,\n",
       " 251,\n",
       " 254,\n",
       " 265,\n",
       " 233,\n",
       " 213,\n",
       " 213,\n",
       " 268,\n",
       " 200,\n",
       " 291,\n",
       " 265,\n",
       " 272,\n",
       " 221,\n",
       " 280,\n",
       " 236,\n",
       " 275,\n",
       " 202,\n",
       " 284,\n",
       " 299,\n",
       " 209,\n",
       " 241,\n",
       " 272,\n",
       " 295,\n",
       " 210,\n",
       " 250,\n",
       " 256,\n",
       " 205,\n",
       " 243,\n",
       " 283,\n",
       " 211,\n",
       " 266,\n",
       " 283,\n",
       " 298,\n",
       " 276,\n",
       " 244,\n",
       " 258,\n",
       " 271,\n",
       " 207,\n",
       " 238,\n",
       " 266,\n",
       " 286,\n",
       " 206,\n",
       " 206,\n",
       " 286,\n",
       " 283,\n",
       " 285,\n",
       " 208,\n",
       " 223,\n",
       " 234,\n",
       " 267,\n",
       " 234,\n",
       " 212,\n",
       " 281,\n",
       " 249,\n",
       " 242,\n",
       " 204,\n",
       " 210,\n",
       " 225,\n",
       " 275,\n",
       " 205,\n",
       " 256,\n",
       " 286,\n",
       " 253,\n",
       " 211,\n",
       " 274,\n",
       " 264,\n",
       " 214,\n",
       " 296,\n",
       " 257,\n",
       " 218,\n",
       " 260,\n",
       " 246,\n",
       " 202,\n",
       " 211,\n",
       " 298,\n",
       " 237,\n",
       " 252,\n",
       " 212,\n",
       " 274,\n",
       " 232,\n",
       " 235,\n",
       " 257,\n",
       " 249,\n",
       " 208,\n",
       " 300,\n",
       " 289,\n",
       " 299,\n",
       " 277,\n",
       " 250,\n",
       " 239,\n",
       " 203,\n",
       " 297,\n",
       " 238,\n",
       " 208,\n",
       " 283,\n",
       " 235,\n",
       " 255,\n",
       " 290,\n",
       " 270,\n",
       " 215,\n",
       " 278,\n",
       " 276,\n",
       " 211,\n",
       " 217,\n",
       " 232,\n",
       " 224,\n",
       " 200,\n",
       " 284,\n",
       " 229,\n",
       " 267,\n",
       " 223,\n",
       " 242,\n",
       " 275,\n",
       " 258,\n",
       " 296,\n",
       " 228,\n",
       " 259,\n",
       " 273,\n",
       " 294,\n",
       " 299,\n",
       " 216,\n",
       " 243,\n",
       " 209,\n",
       " 250,\n",
       " 219,\n",
       " 253,\n",
       " 267,\n",
       " 271,\n",
       " 241,\n",
       " 242,\n",
       " 208,\n",
       " 263,\n",
       " 239,\n",
       " 240,\n",
       " 238,\n",
       " 230,\n",
       " 260,\n",
       " 287,\n",
       " 292,\n",
       " 250,\n",
       " 274,\n",
       " 276,\n",
       " 239,\n",
       " 261,\n",
       " 261,\n",
       " 262,\n",
       " 283,\n",
       " 236,\n",
       " 206,\n",
       " 241,\n",
       " 275,\n",
       " 206,\n",
       " 295,\n",
       " 259,\n",
       " 284,\n",
       " 217,\n",
       " 279,\n",
       " 262,\n",
       " 204,\n",
       " 207,\n",
       " 258,\n",
       " 277,\n",
       " 277,\n",
       " 206,\n",
       " 260,\n",
       " 248,\n",
       " 264,\n",
       " 209,\n",
       " 239,\n",
       " 227,\n",
       " 218,\n",
       " 219,\n",
       " 260,\n",
       " 259,\n",
       " 268,\n",
       " 241,\n",
       " 259,\n",
       " 274,\n",
       " 277,\n",
       " 254,\n",
       " 233,\n",
       " 257,\n",
       " 222,\n",
       " 236,\n",
       " 227,\n",
       " 282,\n",
       " 279,\n",
       " 211,\n",
       " 207,\n",
       " 226,\n",
       " 262,\n",
       " 264,\n",
       " 261,\n",
       " 211,\n",
       " 209,\n",
       " 269,\n",
       " 210,\n",
       " 239,\n",
       " 227,\n",
       " 279,\n",
       " 288,\n",
       " 282,\n",
       " 201,\n",
       " 281,\n",
       " 290,\n",
       " 203,\n",
       " 246,\n",
       " 272,\n",
       " 224,\n",
       " 213,\n",
       " 243,\n",
       " 293,\n",
       " 296,\n",
       " 212,\n",
       " 297,\n",
       " 247,\n",
       " 240,\n",
       " 219,\n",
       " 278,\n",
       " 290,\n",
       " 230,\n",
       " 255,\n",
       " 290,\n",
       " 261,\n",
       " 221,\n",
       " 250,\n",
       " 218,\n",
       " 285,\n",
       " 273,\n",
       " 239,\n",
       " 276,\n",
       " 234,\n",
       " 233,\n",
       " 226,\n",
       " 270,\n",
       " 263,\n",
       " 277,\n",
       " 291,\n",
       " 291,\n",
       " 211,\n",
       " 299,\n",
       " 223,\n",
       " 278,\n",
       " 292,\n",
       " 280,\n",
       " 242,\n",
       " 281,\n",
       " 295,\n",
       " 232,\n",
       " 202,\n",
       " 254,\n",
       " 208,\n",
       " 289,\n",
       " 213,\n",
       " 255,\n",
       " 280,\n",
       " 285,\n",
       " 271,\n",
       " 233,\n",
       " 282,\n",
       " 205,\n",
       " 252,\n",
       " 243,\n",
       " 213,\n",
       " 274,\n",
       " 216,\n",
       " 207,\n",
       " 251,\n",
       " 266,\n",
       " 221,\n",
       " 205,\n",
       " 227,\n",
       " 262,\n",
       " 251,\n",
       " 227,\n",
       " 257,\n",
       " 245,\n",
       " 226,\n",
       " 225,\n",
       " 200,\n",
       " 202,\n",
       " 225,\n",
       " 214,\n",
       " 261,\n",
       " 260,\n",
       " 293,\n",
       " 211,\n",
       " 229,\n",
       " 206,\n",
       " 235,\n",
       " 226,\n",
       " 278,\n",
       " 209,\n",
       " 276,\n",
       " 244,\n",
       " 242,\n",
       " 254,\n",
       " 242,\n",
       " 276,\n",
       " 215,\n",
       " 284,\n",
       " 260,\n",
       " 295,\n",
       " 257,\n",
       " 259,\n",
       " 276,\n",
       " 238,\n",
       " 220,\n",
       " 244,\n",
       " 261,\n",
       " 209,\n",
       " 247,\n",
       " 232,\n",
       " 294,\n",
       " 244,\n",
       " 217,\n",
       " 257,\n",
       " 269,\n",
       " 223,\n",
       " 298,\n",
       " 233,\n",
       " 228,\n",
       " 256,\n",
       " 202,\n",
       " 255,\n",
       " 297,\n",
       " 222,\n",
       " 294,\n",
       " 241,\n",
       " 206,\n",
       " 270,\n",
       " 237,\n",
       " 283,\n",
       " 294,\n",
       " 247,\n",
       " 263,\n",
       " 210,\n",
       " 292,\n",
       " 223,\n",
       " 252,\n",
       " 299,\n",
       " 221,\n",
       " 200,\n",
       " 201,\n",
       " 285,\n",
       " 269,\n",
       " 231,\n",
       " 275,\n",
       " 259,\n",
       " 255,\n",
       " 212,\n",
       " 211,\n",
       " 235,\n",
       " 272,\n",
       " 212,\n",
       " 207,\n",
       " 253,\n",
       " 290,\n",
       " 255,\n",
       " 269,\n",
       " 232,\n",
       " 286,\n",
       " 254,\n",
       " 268,\n",
       " 300,\n",
       " 290,\n",
       " 226,\n",
       " 260,\n",
       " 288,\n",
       " 269,\n",
       " 266,\n",
       " 247,\n",
       " 264,\n",
       " 264,\n",
       " 214,\n",
       " 239,\n",
       " 291,\n",
       " 225,\n",
       " 232,\n",
       " 224,\n",
       " 261,\n",
       " 289,\n",
       " 268,\n",
       " 211,\n",
       " 277,\n",
       " 248,\n",
       " 238,\n",
       " 287,\n",
       " 237,\n",
       " 234,\n",
       " 221,\n",
       " 287,\n",
       " 250,\n",
       " 289,\n",
       " 293,\n",
       " 293,\n",
       " 233,\n",
       " 264,\n",
       " 286,\n",
       " 299,\n",
       " 275,\n",
       " 200,\n",
       " 228,\n",
       " 233,\n",
       " 280,\n",
       " 262,\n",
       " 289,\n",
       " 269,\n",
       " 271,\n",
       " 256,\n",
       " 236,\n",
       " 285,\n",
       " 208,\n",
       " 282,\n",
       " 205,\n",
       " 209,\n",
       " 291,\n",
       " 267,\n",
       " 263]"
      ]
     },
     "execution_count": 9,
     "metadata": {},
     "output_type": "execute_result"
    }
   ],
   "source": [
    "import random\n",
    "\n",
    "int_list2 = [random.randint(200, 300) for _ in range(500)]\n",
    "\n",
    "int_list2\n"
   ]
  },
  {
   "cell_type": "markdown",
   "metadata": {},
   "source": [
    " (i) Compare the given list of visualization for the given data:\n",
    " 1. Frequency & Gaussian distribution\n",
    " 2. Frequency smoothened KDE plot\n",
    " 3. Gaussian distribution & smoothened KDE plot"
   ]
  },
  {
   "cell_type": "code",
   "execution_count": 10,
   "metadata": {},
   "outputs": [
    {
     "data": {
      "image/png": "[encoded data removed]",
      "text/plain": [
       "<Figure size 1500x1000 with 3 Axes>"
      ]
     },
     "metadata": {},
     "output_type": "display_data"
    }
   ],
   "source": [
    "import matplotlib.pyplot as plt\n",
    "import seaborn as sns\n",
    "import numpy as np\n",
    "\n",
    "# Set up the figure\n",
    "plt.figure(figsize=(15, 10))\n",
    "\n",
    "# 1. Frequency & Gaussian Distribution\n",
    "plt.subplot(3, 1, 1)\n",
    "sns.histplot(int_list2, kde=True, stat=\"density\", color='skyblue', edgecolor='black')\n",
    "sns.kdeplot(np.random.normal(np.mean(int_list2), np.std(int_list2), 500), color='red', lw=2, label=\"Gaussian Distribution\")\n",
    "plt.title(\"Frequency & Gaussian Distribution\")\n",
    "plt.legend()\n",
    "\n",
    "# 2. Frequency Smoothened KDE Plot\n",
    "plt.subplot(3, 1, 2)\n",
    "sns.histplot(int_list2, kde=True, color='purple', edgecolor='black')\n",
    "plt.title(\"Frequency & Smoothened KDE Plot\")\n",
    "\n",
    "# 3. Gaussian Distribution & Smoothened KDE Plot\n",
    "plt.subplot(3, 1, 3)\n",
    "sns.kdeplot(np.random.normal(np.mean(int_list2), np.std(int_list2), 500), color='red', lw=2, label=\"Gaussian Distribution\")\n",
    "sns.kdeplot(int_list2, color='blue', lw=2, label=\"Smoothened KDE Plot\")\n",
    "plt.title(\"Gaussian Distribution & Smoothened KDE Plot\")\n",
    "plt.legend()\n",
    "\n",
    "# Show plots\n",
    "plt.tight_layout()\n",
    "plt.show()\n"
   ]
  },
  {
   "cell_type": "markdown",
   "metadata": {},
   "source": [
    " (ii) Write a Python function to calculate the range of a given list of numbers."
   ]
  },
  {
   "cell_type": "code",
   "execution_count": 11,
   "metadata": {},
   "outputs": [
    {
     "name": "stdout",
     "output_type": "stream",
     "text": [
      "Range of the list: 100\n"
     ]
    }
   ],
   "source": [
    "def calculate_range(numbers):\n",
    "    return max(numbers) - min(numbers)\n",
    "\n",
    "range_of_list = calculate_range(int_list2)\n",
    "print(\"Range of the list:\", range_of_list)\n"
   ]
  },
  {
   "cell_type": "markdown",
   "metadata": {},
   "source": [
    " (iii) Create a program to find the variance and standard deviation of a list of numbers."
   ]
  },
  {
   "cell_type": "code",
   "execution_count": 12,
   "metadata": {},
   "outputs": [
    {
     "name": "stdout",
     "output_type": "stream",
     "text": [
      "Variance of the list: 815.7691\n",
      "Standard Deviation of the list: 28.56167186983283\n"
     ]
    }
   ],
   "source": [
    "def calculate_variance(numbers):\n",
    "    mean = sum(numbers) / len(numbers)\n",
    "    variance = sum((x - mean) ** 2 for x in numbers) / len(numbers)\n",
    "    return variance\n",
    "\n",
    "def calculate_standard_deviation(numbers):\n",
    "    variance = calculate_variance(numbers)\n",
    "    return variance ** 0.5\n",
    "\n",
    "variance_of_list = calculate_variance(int_list2)\n",
    "std_deviation_of_list = calculate_standard_deviation(int_list2)\n",
    "print(\"Variance of the list:\", variance_of_list)\n",
    "print(\"Standard Deviation of the list:\", std_deviation_of_list)\n"
   ]
  },
  {
   "cell_type": "markdown",
   "metadata": {},
   "source": [
    "(iv) Implement a function to compute the interquartile range (IQR) of a list of values."
   ]
  },
  {
   "cell_type": "code",
   "execution_count": 13,
   "metadata": {},
   "outputs": [
    {
     "name": "stdout",
     "output_type": "stream",
     "text": [
      "Interquartile Range (IQR) of the list: 50.0\n"
     ]
    }
   ],
   "source": [
    "def calculate_iqr(numbers):\n",
    "    sorted_numbers = sorted(numbers)\n",
    "    q1 = np.percentile(sorted_numbers, 25)\n",
    "    q3 = np.percentile(sorted_numbers, 75)\n",
    "    iqr = q3 - q1\n",
    "    return iqr\n",
    "\n",
    "iqr_of_list = calculate_iqr(int_list2)\n",
    "print(\"Interquartile Range (IQR) of the list:\", iqr_of_list)\n"
   ]
  },
  {
   "cell_type": "markdown",
   "metadata": {},
   "source": [
    "(v) Build a program to calculate the coefficient of variation for a dataset."
   ]
  },
  {
   "cell_type": "code",
   "execution_count": 14,
   "metadata": {},
   "outputs": [
    {
     "name": "stdout",
     "output_type": "stream",
     "text": [
      "Coefficient of Variation of the list: 0.11421470736127017\n"
     ]
    }
   ],
   "source": [
    "def calculate_coefficient_of_variation(numbers):\n",
    "    mean = sum(numbers) / len(numbers)\n",
    "    std_deviation = calculate_standard_deviation(numbers)\n",
    "    cv = std_deviation / mean\n",
    "    return cv\n",
    "\n",
    "cv_of_list = calculate_coefficient_of_variation(int_list2)\n",
    "print(\"Coefficient of Variation of the list:\", cv_of_list)\n"
   ]
  },
  {
   "cell_type": "markdown",
   "metadata": {},
   "source": [
    " (vi) Write a Python function to find the mean absolute deviation (MAD) of a list of numbers."
   ]
  },
  {
   "cell_type": "code",
   "execution_count": 15,
   "metadata": {},
   "outputs": [
    {
     "name": "stdout",
     "output_type": "stream",
     "text": [
      "Mean Absolute Deviation (MAD) of the list: 24.764599999999998\n"
     ]
    }
   ],
   "source": [
    "def calculate_mad(numbers):\n",
    "    mean = sum(numbers) / len(numbers)\n",
    "    mad = sum(abs(x - mean) for x in numbers) / len(numbers)\n",
    "    return mad\n",
    "\n",
    "mad_of_list = calculate_mad(int_list2)\n",
    "print(\"Mean Absolute Deviation (MAD) of the list:\", mad_of_list)\n"
   ]
  },
  {
   "cell_type": "markdown",
   "metadata": {},
   "source": [
    "(vii) Create a program to calculate the quartile deviation of a list of values."
   ]
  },
  {
   "cell_type": "code",
   "execution_count": 16,
   "metadata": {},
   "outputs": [
    {
     "name": "stdout",
     "output_type": "stream",
     "text": [
      "Quartile Deviation of the list: 25.0\n"
     ]
    }
   ],
   "source": [
    "def calculate_quartile_deviation(numbers):\n",
    "    iqr = calculate_iqr(numbers)\n",
    "    return iqr / 2\n",
    "\n",
    "quartile_deviation_of_list = calculate_quartile_deviation(int_list2)\n",
    "print(\"Quartile Deviation of the list:\", quartile_deviation_of_list)\n"
   ]
  },
  {
   "cell_type": "markdown",
   "metadata": {},
   "source": [
    " (viii) Implement a function to find the range-based coefficient of dispersion for a dataset."
   ]
  },
  {
   "cell_type": "code",
   "execution_count": 17,
   "metadata": {},
   "outputs": [
    {
     "name": "stdout",
     "output_type": "stream",
     "text": [
      "Range-Based Coefficient of Dispersion of the list: 0.2\n"
     ]
    }
   ],
   "source": [
    "def calculate_range_based_coefficient_of_dispersion(numbers):\n",
    "    range_value = calculate_range(numbers)\n",
    "    min_value = min(numbers)\n",
    "    max_value = max(numbers)\n",
    "    rcd = range_value / (min_value + max_value)\n",
    "    return rcd\n",
    "\n",
    "rcd_of_list = calculate_range_based_coefficient_of_dispersion(int_list2)\n",
    "print(\"Range-Based Coefficient of Dispersion of the list:\", rcd_of_list)\n"
   ]
  },
  {
   "cell_type": "markdown",
   "metadata": {},
   "source": [
    "3. Write a Python class representing a discrete random variable with methods to calculate its expected value and variance.\n",
    "\n",
    " "
   ]
  },
  {
   "cell_type": "code",
   "execution_count": 18,
   "metadata": {},
   "outputs": [
    {
     "name": "stdout",
     "output_type": "stream",
     "text": [
      "Expected Value: 3.2\n",
      "Variance: 1.56\n"
     ]
    }
   ],
   "source": [
    "class DiscreteRandomVariable:\n",
    "    def __init__(self, values, probabilities):\n",
    "        if len(values) != len(probabilities):\n",
    "            raise ValueError(\"Values and probabilities must have the same length.\")\n",
    "        if not all(0 <= p <= 1 for p in probabilities):\n",
    "            raise ValueError(\"Probabilities must be between 0 and 1.\")\n",
    "        if not abs(sum(probabilities) - 1) < 1e-6:\n",
    "            raise ValueError(\"Probabilities must sum to 1.\")\n",
    "        \n",
    "        self.values = values\n",
    "        self.probabilities = probabilities\n",
    "\n",
    "    def expected_value(self):\n",
    "        return sum(value * prob for value, prob in zip(self.values, self.probabilities))\n",
    "\n",
    "    def variance(self):\n",
    "        mean = self.expected_value()\n",
    "        return sum(prob * (value - mean) ** 2 for value, prob in zip(self.values, self.probabilities))\n",
    "\n",
    "# Example usage\n",
    "values = [1, 2, 3, 4, 5]\n",
    "probabilities = [0.1, 0.2, 0.3, 0.2, 0.2]\n",
    "\n",
    "drv = DiscreteRandomVariable(values, probabilities)\n",
    "print(\"Expected Value:\", drv.expected_value())\n",
    "print(\"Variance:\", drv.variance())\n"
   ]
  },
  {
   "cell_type": "markdown",
   "metadata": {},
   "source": [
    "4. Implement a program to simulate the rolling of a fair six-sided die and calculate the expected value and variance of the outcomes."
   ]
  },
  {
   "cell_type": "code",
   "execution_count": 19,
   "metadata": {},
   "outputs": [
    {
     "name": "stdout",
     "output_type": "stream",
     "text": [
      "Expected Value:- 3.499911\n",
      "Variance:- 2.916155992079\n"
     ]
    }
   ],
   "source": [
    "import random\n",
    "\n",
    "# Number of simulations\n",
    "n_simulations = 1000000\n",
    "\n",
    "# Simulate rolling a fair six-sided die\n",
    "outcomes = [random.randint(1, 6) for _ in range(n_simulations)]\n",
    "\n",
    "# Calculate the expected value\n",
    "expected_value = sum(outcomes) / n_simulations\n",
    "\n",
    "# Calculate the variance\n",
    "variance = sum((x - expected_value) ** 2 for x in outcomes) / n_simulations\n",
    "\n",
    "# Output the results\n",
    "print(\"Expected Value:-\",expected_value)\n",
    "print(\"Variance:-\",variance)\n"
   ]
  },
  {
   "cell_type": "markdown",
   "metadata": {},
   "source": [
    "5. Create a Python function to generate random samples from a given probability distribution (e.g., binomial, Poisson) and calculate their mean and variance.\n"
   ]
  },
  {
   "cell_type": "code",
   "execution_count": 20,
   "metadata": {},
   "outputs": [
    {
     "name": "stdout",
     "output_type": "stream",
     "text": [
      "Binomial Distribution -> Mean: 4.98, Variance: 2.4195999999999995\n",
      "Poisson Distribution -> Mean: 2.916, Variance: 2.760944\n"
     ]
    }
   ],
   "source": [
    "import numpy as np\n",
    "\n",
    "def generate_samples(distribution, params, n_samples=1000):\n",
    "   \n",
    "    if distribution == 'binomial':\n",
    "        samples = np.random.binomial(n=params['n'], p=params['p'], size=n_samples)\n",
    "    elif distribution == 'poisson':\n",
    "        samples = np.random.poisson(lam=params['lam'], size=n_samples)\n",
    "    else:\n",
    "        raise ValueError(f\"Unsupported distribution: {distribution}\")\n",
    "\n",
    "    mean = np.mean(samples)\n",
    "    variance = np.var(samples)\n",
    "\n",
    "    return mean, variance\n",
    "\n",
    "# Example Usage:\n",
    "binomial_params = {'n': 10, 'p': 0.5}\n",
    "poisson_params = {'lam': 3}\n",
    "\n",
    "mean_binomial, var_binomial = generate_samples('binomial', binomial_params)\n",
    "mean_poisson, var_poisson = generate_samples('poisson', poisson_params)\n",
    "\n",
    "print(f\"Binomial Distribution -> Mean: {mean_binomial}, Variance: {var_binomial}\")\n",
    "print(f\"Poisson Distribution -> Mean: {mean_poisson}, Variance: {var_poisson}\")\n"
   ]
  },
  {
   "cell_type": "markdown",
   "metadata": {},
   "source": [
    "6. Write a Python script to generate random numbers from a Gaussian (normal) distribution and compute \n",
    "the mean, variance, and standard deviation of the samples"
   ]
  },
  {
   "cell_type": "code",
   "execution_count": 21,
   "metadata": {},
   "outputs": [
    {
     "name": "stdout",
     "output_type": "stream",
     "text": [
      "Gaussian Distribution -> Mean: 4.990399260973712,\n",
      " Variance: 4.08694676805561,\n",
      " Standard Deviation: 2.0216198376686974\n"
     ]
    }
   ],
   "source": [
    "import numpy as np\n",
    "\n",
    "def gaussian_statistics(mean=0, std_dev=1, n_samples=1000):\n",
    "    \n",
    "    samples = np.random.normal(loc=mean, scale=std_dev, size=n_samples)\n",
    "\n",
    "    mean_sample = np.mean(samples)\n",
    "    variance_sample = np.var(samples)\n",
    "    std_dev_sample = np.std(samples)\n",
    "\n",
    "    return mean_sample, variance_sample, std_dev_sample\n",
    "\n",
    "# Example Usage:\n",
    "mean_sample, variance_sample, std_dev_sample = gaussian_statistics(mean=5, std_dev=2, n_samples=10000)\n",
    "\n",
    "print(f\"Gaussian Distribution -> Mean: {mean_sample},\\n Variance: {variance_sample},\\n Standard Deviation: {std_dev_sample}\")\n"
   ]
  },
  {
   "cell_type": "markdown",
   "metadata": {},
   "source": [
    "7. Use seaborn library to load `tips` dataset. Find the following from the dataset for the columns `total_bill` and `tip`:\n",
    " "
   ]
  },
  {
   "cell_type": "code",
   "execution_count": 25,
   "metadata": {},
   "outputs": [
    {
     "data": {
      "text/html": [
       "<div>\n",
       "<style scoped>\n",
       "    .dataframe tbody tr th:only-of-type {\n",
       "        vertical-align: middle;\n",
       "    }\n",
       "\n",
       "    .dataframe tbody tr th {\n",
       "        vertical-align: top;\n",
       "    }\n",
       "\n",
       "    .dataframe thead th {\n",
       "        text-align: right;\n",
       "    }\n",
       "</style>\n",
       "<table border=\"1\" class=\"dataframe\">\n",
       "  <thead>\n",
       "    <tr style=\"text-align: right;\">\n",
       "      <th></th>\n",
       "      <th>total_bill</th>\n",
       "      <th>tip</th>\n",
       "      <th>sex</th>\n",
       "      <th>smoker</th>\n",
       "      <th>day</th>\n",
       "      <th>time</th>\n",
       "      <th>size</th>\n",
       "    </tr>\n",
       "  </thead>\n",
       "  <tbody>\n",
       "    <tr>\n",
       "      <th>0</th>\n",
       "      <td>16.99</td>\n",
       "      <td>1.01</td>\n",
       "      <td>Female</td>\n",
       "      <td>No</td>\n",
       "      <td>Sun</td>\n",
       "      <td>Dinner</td>\n",
       "      <td>2</td>\n",
       "    </tr>\n",
       "    <tr>\n",
       "      <th>1</th>\n",
       "      <td>10.34</td>\n",
       "      <td>1.66</td>\n",
       "      <td>Male</td>\n",
       "      <td>No</td>\n",
       "      <td>Sun</td>\n",
       "      <td>Dinner</td>\n",
       "      <td>3</td>\n",
       "    </tr>\n",
       "    <tr>\n",
       "      <th>2</th>\n",
       "      <td>21.01</td>\n",
       "      <td>3.50</td>\n",
       "      <td>Male</td>\n",
       "      <td>No</td>\n",
       "      <td>Sun</td>\n",
       "      <td>Dinner</td>\n",
       "      <td>3</td>\n",
       "    </tr>\n",
       "    <tr>\n",
       "      <th>3</th>\n",
       "      <td>23.68</td>\n",
       "      <td>3.31</td>\n",
       "      <td>Male</td>\n",
       "      <td>No</td>\n",
       "      <td>Sun</td>\n",
       "      <td>Dinner</td>\n",
       "      <td>2</td>\n",
       "    </tr>\n",
       "    <tr>\n",
       "      <th>4</th>\n",
       "      <td>24.59</td>\n",
       "      <td>3.61</td>\n",
       "      <td>Female</td>\n",
       "      <td>No</td>\n",
       "      <td>Sun</td>\n",
       "      <td>Dinner</td>\n",
       "      <td>4</td>\n",
       "    </tr>\n",
       "  </tbody>\n",
       "</table>\n",
       "</div>"
      ],
      "text/plain": [
       "   total_bill   tip     sex smoker  day    time  size\n",
       "0       16.99  1.01  Female     No  Sun  Dinner     2\n",
       "1       10.34  1.66    Male     No  Sun  Dinner     3\n",
       "2       21.01  3.50    Male     No  Sun  Dinner     3\n",
       "3       23.68  3.31    Male     No  Sun  Dinner     2\n",
       "4       24.59  3.61  Female     No  Sun  Dinner     4"
      ]
     },
     "execution_count": 25,
     "metadata": {},
     "output_type": "execute_result"
    }
   ],
   "source": [
    "import seaborn as sns\n",
    "\n",
    "tips = sns.load_dataset('tips')\n",
    "\n",
    "tips.head()\n"
   ]
  },
  {
   "cell_type": "markdown",
   "metadata": {},
   "source": [
    "(i) Write a Python function that calculates their skewness.\n",
    " approximately symmetric.\n",
    " "
   ]
  },
  {
   "cell_type": "code",
   "execution_count": 27,
   "metadata": {},
   "outputs": [
    {
     "name": "stdout",
     "output_type": "stream",
     "text": [
      "Skewness of total_bill: 1.1262346334818638\n",
      "Skewness of tip: 1.4564266884221506\n"
     ]
    }
   ],
   "source": [
    "from scipy.stats import skew\n",
    "\n",
    "def calculate_skewness(column):\n",
    "    return skew(column)\n",
    "\n",
    "skewness_total_bill = calculate_skewness(tips['total_bill'])\n",
    "skewness_tip = calculate_skewness(tips['tip'])\n",
    "\n",
    "print(f\"Skewness of total_bill: {skewness_total_bill}\")\n",
    "print(f\"Skewness of tip: {skewness_tip}\")\n"
   ]
  },
  {
   "cell_type": "markdown",
   "metadata": {},
   "source": [
    "(ii) Create a program that determines whether the columns exhibit positive skewness, negative skewness, or is  approximately symmetric.\n"
   ]
  },
  {
   "cell_type": "code",
   "execution_count": 30,
   "metadata": {},
   "outputs": [
    {
     "name": "stdout",
     "output_type": "stream",
     "text": [
      "Skewness type of total_bill: Positive Skewness\n",
      "Skewness type of tip: Positive Skewness\n"
     ]
    }
   ],
   "source": [
    "def skewness_type(skewness_value):\n",
    "    if skewness_value > 0:\n",
    "        return \"Positive Skewness\"\n",
    "    elif skewness_value < 0:\n",
    "        return \"Negative Skewness\"\n",
    "    else:\n",
    "        return \"Approximately Symmetric\"\n",
    "\n",
    "skewness_type_total_bill = skewness_type(skewness_total_bill)\n",
    "skewness_type_tip = skewness_type(skewness_tip)\n",
    "\n",
    "print(f\"Skewness type of total_bill: {skewness_type_total_bill}\")\n",
    "print(f\"Skewness type of tip: {skewness_type_tip}\")\n"
   ]
  },
  {
   "cell_type": "markdown",
   "metadata": {},
   "source": [
    "(iii) Write a function that calculates the covariance between two columns.\n",
    " "
   ]
  },
  {
   "cell_type": "code",
   "execution_count": 29,
   "metadata": {},
   "outputs": [
    {
     "name": "stdout",
     "output_type": "stream",
     "text": [
      "Covariance between total_bill and tip: 8.323501629224854\n"
     ]
    }
   ],
   "source": [
    "import numpy as np\n",
    "\n",
    "def calculate_covariance(column1, column2):\n",
    "    return np.cov(column1, column2)[0][1]\n",
    "\n",
    "covariance_total_bill_tip = calculate_covariance(tips['total_bill'], tips['tip'])\n",
    "\n",
    "print(f\"Covariance between total_bill and tip: {covariance_total_bill_tip}\")\n"
   ]
  },
  {
   "cell_type": "markdown",
   "metadata": {},
   "source": [
    "(iv) Implement a Python program that calculates the Pearson correlation coefficient between two columns.\n",
    " "
   ]
  },
  {
   "cell_type": "code",
   "execution_count": 31,
   "metadata": {},
   "outputs": [
    {
     "name": "stdout",
     "output_type": "stream",
     "text": [
      "Pearson correlation coefficient between total_bill and tip: 0.6757341092113645\n"
     ]
    }
   ],
   "source": [
    "from scipy.stats import pearsonr\n",
    "\n",
    "def calculate_pearson_correlation(column1, column2):\n",
    "    return pearsonr(column1, column2)[0]\n",
    "\n",
    "pearson_correlation_total_bill_tip = calculate_pearson_correlation(tips['total_bill'], tips['tip'])\n",
    "\n",
    "print(f\"Pearson correlation coefficient between total_bill and tip: {pearson_correlation_total_bill_tip}\")\n"
   ]
  },
  {
   "cell_type": "markdown",
   "metadata": {},
   "source": [
    "(v) Write a script to visualize the correlation between two specific columns in a Pandas DataFrame using \n",
    "scatter plots"
   ]
  },
  {
   "cell_type": "code",
   "execution_count": 32,
   "metadata": {},
   "outputs": [
    {
     "data": {
      "image/png": "[encoded data removed]",
      "text/plain": [
       "<Figure size 800x600 with 1 Axes>"
      ]
     },
     "metadata": {},
     "output_type": "display_data"
    }
   ],
   "source": [
    "import matplotlib.pyplot as plt\n",
    "\n",
    "def plot_correlation(column1, column2):\n",
    "    plt.figure(figsize=(8, 6))\n",
    "    plt.scatter(column1, column2, color='blue')\n",
    "    plt.title('Scatter Plot between Total Bill and Tip')\n",
    "    plt.xlabel('Total Bill')\n",
    "    plt.ylabel('Tip')\n",
    "    plt.grid(True)\n",
    "    plt.show()\n",
    "\n",
    "plot_correlation(tips['total_bill'], tips['tip'])\n"
   ]
  },
  {
   "cell_type": "markdown",
   "metadata": {},
   "source": [
    "8. Write a Python function to calculate the probability density function (PDF) of a continuous random variable for a given normal distribution.\n",
    " "
   ]
  },
  {
   "cell_type": "code",
   "execution_count": 34,
   "metadata": {},
   "outputs": [
    {
     "name": "stdout",
     "output_type": "stream",
     "text": [
      "PDF at x=0 for N(0, 1^2) is: 0.3989422804014327\n"
     ]
    }
   ],
   "source": [
    "import numpy as np\n",
    "\n",
    "def normal_pdf(x, mu, sigma):\n",
    "    coeff = 1 / (np.sqrt(2 * np.pi) * sigma)\n",
    "    exponent = np.exp(-0.5 * ((x - mu) / sigma) ** 2)\n",
    "    return coeff * exponent\n",
    "\n",
    "x_value = 0  \n",
    "mu_value = 0 \n",
    "sigma_value = 1  \n",
    "pdf_value = normal_pdf(x_value, mu_value, sigma_value)\n",
    "\n",
    "print(f\"PDF at x={x_value} for N({mu_value}, {sigma_value}^2) is: {pdf_value}\")\n"
   ]
  },
  {
   "cell_type": "markdown",
   "metadata": {},
   "source": [
    "9. Create a program to calculate the cumulative distribution function (CDF) of exponential distribution.\n"
   ]
  },
  {
   "cell_type": "code",
   "execution_count": 35,
   "metadata": {},
   "outputs": [
    {
     "name": "stdout",
     "output_type": "stream",
     "text": [
      "CDF at x=1 for Exponential(0.5) is: 0.3934693402873666\n"
     ]
    }
   ],
   "source": [
    "def exponential_cdf(x, rate):\n",
    "    if x < 0:\n",
    "        return 0.0\n",
    "    return 1 - np.exp(-rate * x)\n",
    "\n",
    "x_value = 1  \n",
    "rate_value = 0.5  \n",
    "cdf_value = exponential_cdf(x_value, rate_value)\n",
    "\n",
    "print(f\"CDF at x={x_value} for Exponential({rate_value}) is: {cdf_value}\")\n"
   ]
  },
  {
   "cell_type": "markdown",
   "metadata": {},
   "source": [
    "10. Write a Python function to calculate the probability mass function (PMF) of Poisson distribution."
   ]
  },
  {
   "cell_type": "code",
   "execution_count": 36,
   "metadata": {},
   "outputs": [
    {
     "name": "stdout",
     "output_type": "stream",
     "text": [
      "PMF at k=3 for Poisson(2) is: 0.1804470443154836\n"
     ]
    }
   ],
   "source": [
    "from scipy.special import factorial\n",
    "\n",
    "def poisson_pmf(k, lam):\n",
    "    return (lam ** k * np.exp(-lam)) / factorial(k)\n",
    "\n",
    "k_value = 3  \n",
    "lam_value = 2  \n",
    "pmf_value = poisson_pmf(k_value, lam_value)\n",
    "\n",
    "print(f\"PMF at k={k_value} for Poisson({lam_value}) is: {pmf_value}\")\n"
   ]
  },
  {
   "cell_type": "markdown",
   "metadata": {},
   "source": [
    " 11. A company wants to test if a new website layout leads to a higher conversion rate (percentage of visitors \n",
    "who make a purchase). They collect data from the old and new layouts to compare.\n",
    "\n",
    "\n",
    " To generate the data use the following command:\n",
    " ```python\n",
    " import numpy as np\n",
    " # 50 purchases out of 1000 visitors\n",
    " old_layout = np.array([1] * 50 + [0] * 950)\n",
    " # 70 purchases out of 1000 visitors  \n",
    "new_layout = np.array([1] * 70 + [0] * 930)\n",
    " ```\n",
    " Apply z-test to find which layout is successful."
   ]
  },
  {
   "cell_type": "code",
   "execution_count": 41,
   "metadata": {},
   "outputs": [
    {
     "name": "stdout",
     "output_type": "stream",
     "text": [
      "Z-statistic: -1.883108942886774\n",
      "P-value: 0.05968560553242619\n"
     ]
    }
   ],
   "source": [
    "import numpy as np\n",
    "from scipy import stats\n",
    "\n",
    "old_layout = np.array([1] * 50 + [0] * 950)\n",
    "new_layout = np.array([1] * 70 + [0] * 930)\n",
    "\n",
    "p1 = old_layout.mean()\n",
    "p2 = new_layout.mean()\n",
    "\n",
    "p_pool = (old_layout.sum() + new_layout.sum()) / (len(old_layout) + len(new_layout))\n",
    "\n",
    "se = np.sqrt(p_pool * (1 - p_pool) * (1/len(old_layout) + 1/len(new_layout)))\n",
    "\n",
    "z_stat = (p1 - p2) / se\n",
    "\n",
    "p_value = 2 * (1 - stats.norm.cdf(abs(z_stat)))\n",
    "\n",
    "print(f\"Z-statistic: {z_stat}\")\n",
    "print(f\"P-value: {p_value}\")\n"
   ]
  },
  {
   "cell_type": "markdown",
   "metadata": {},
   "source": [
    "12. A tutoring service claims that its program improves students' exam scores. A sample of students who \n",
    "participated in the program was taken, and their scores before and after the program were recorded.\n",
    "\n",
    "\n",
    " Use the below code to generate samples of respective arrays of marks:\n",
    " ```python\n",
    " before_program = np.array([75, 80, 85, 70, 90, 78, 92, 88, 82, 87])\n",
    " after_program = np.array([80, 85, 90, 80, 92, 80, 95, 90, 85, 88])\n",
    " ```\n",
    " Use z-test to find if the claims made by tutor are true or false."
   ]
  },
  {
   "cell_type": "code",
   "execution_count": 43,
   "metadata": {},
   "outputs": [
    {
     "name": "stdout",
     "output_type": "stream",
     "text": [
      "Mean of differences: 3.8\n",
      "Standard deviation of differences: 2.616188916046478\n",
      "Z-Statistic: 4.593190894944668\n",
      "P-Value: 2.182597052646784e-06\n",
      "Reject the null hypothesis: The tutoring program significantly improves students' scores.\n"
     ]
    }
   ],
   "source": [
    "import numpy as np\n",
    "from scipy.stats import norm\n",
    "\n",
    "before_program = np.array([75, 80, 85, 70, 90, 78, 92, 88, 82, 87])\n",
    "after_program = np.array([80, 85, 90, 80, 92, 80, 95, 90, 85, 88])\n",
    "\n",
    "differences = after_program - before_program\n",
    "\n",
    "mean_diff = np.mean(differences)\n",
    "std_diff = np.std(differences, ddof=1)  \n",
    "n = len(differences)\n",
    "\n",
    "z_stat = mean_diff / (std_diff / np.sqrt(n))\n",
    "\n",
    "p_value = 1 - norm.cdf(z_stat)\n",
    "\n",
    "print(f\"Mean of differences: {mean_diff}\")\n",
    "print(f\"Standard deviation of differences: {std_diff}\")\n",
    "print(f\"Z-Statistic: {z_stat}\")\n",
    "print(f\"P-Value: {p_value}\")\n",
    "\n",
    "alpha = 0.05\n",
    "\n",
    "if p_value < alpha:\n",
    "    print(\"Reject the null hypothesis: The tutoring program significantly improves students' scores.\")\n",
    "else:\n",
    "    print(\"Fail to reject the null hypothesis: There is no significant evidence that the tutoring program improves students' scores.\")\n"
   ]
  },
  {
   "cell_type": "markdown",
   "metadata": {},
   "source": [
    "13. A pharmaceutical company wants to determine if a new drug is effective in reducing blood pressure. They \n",
    "conduct a study and record blood pressure measurements before and after administering the drug.\n",
    "\n",
    "\n",
    " Use the below code to generate samples of respective arrays of blood pressure:\n",
    " ```python\n",
    " before_drug = np.array([145, 150, 140, 135, 155, 160, 152, 148, 130, 138])\n",
    " after_drug = np.array([130, 140, 132, 128, 145, 148, 138, 136, 125, 130])\n",
    " ```\n",
    " Implement z-test to find if the drug really works or not."
   ]
  },
  {
   "cell_type": "code",
   "execution_count": 44,
   "metadata": {},
   "outputs": [
    {
     "name": "stdout",
     "output_type": "stream",
     "text": [
      "Mean of differences: 10.1\n",
      "Standard deviation of differences: 3.178049716414141\n",
      "Z-Statistic: 10.049875621120888\n",
      "P-Value: 0.0\n",
      "Reject the null hypothesis: The drug significantly reduces blood pressure.\n"
     ]
    }
   ],
   "source": [
    "import numpy as np\n",
    "from scipy.stats import norm\n",
    "\n",
    "before_drug = np.array([145, 150, 140, 135, 155, 160, 152, 148, 130, 138])\n",
    "after_drug = np.array([130, 140, 132, 128, 145, 148, 138, 136, 125, 130])\n",
    "\n",
    "differences = before_drug - after_drug\n",
    "\n",
    "mean_diff = np.mean(differences)\n",
    "std_diff = np.std(differences, ddof=1) \n",
    "n = len(differences)\n",
    "\n",
    "z_stat = mean_diff / (std_diff / np.sqrt(n))\n",
    "\n",
    "p_value = 1 - norm.cdf(z_stat)\n",
    "\n",
    "print(f\"Mean of differences: {mean_diff}\")\n",
    "print(f\"Standard deviation of differences: {std_diff}\")\n",
    "print(f\"Z-Statistic: {z_stat}\")\n",
    "print(f\"P-Value: {p_value}\")\n",
    "\n",
    "alpha = 0.05\n",
    "\n",
    "if p_value < alpha:\n",
    "    print(\"Reject the null hypothesis: The drug significantly reduces blood pressure.\")\n",
    "else:\n",
    "    print(\"Fail to reject the null hypothesis: There is no significant evidence that the drug reduces blood pressure.\")\n"
   ]
  },
  {
   "cell_type": "markdown",
   "metadata": {},
   "source": [
    "14. A customer service department claims that their average response time is less than 5 minutes. A sample of recent customer interactions was taken, and the response times were recorded.\n",
    "\n",
    " Implement the below code to generate the array of response time:\n",
    "\n",
    " ```python\n",
    " response_times = np.array([4.3, 3.8, 5.1, 4.9, 4.7, 4.2, 5.2, 4.5, 4.6, 4.4])\n",
    " ```\n",
    " Implement z-test to find the claims made by customer service department are true or false"
   ]
  },
  {
   "cell_type": "code",
   "execution_count": 2,
   "metadata": {},
   "outputs": [
    {
     "name": "stdout",
     "output_type": "stream",
     "text": [
      "Sample Mean: 4.57\n",
      "Sample Standard Deviation: 0.4270050741306634\n",
      "Z-Statistic: -3.184457226042963\n",
      "P-Value: 0.0007251287113068958\n",
      "Reject the null hypothesis: The average response time is significantly less than 5 minutes.\n"
     ]
    }
   ],
   "source": [
    "import numpy as np\n",
    "from scipy.stats import norm\n",
    "\n",
    "response_times = np.array([4.3, 3.8, 5.1, 4.9, 4.7, 4.2, 5.2, 4.5, 4.6, 4.4])\n",
    "\n",
    "mu_0 = 5\n",
    "\n",
    "sample_mean = np.mean(response_times)\n",
    "sample_std = np.std(response_times, ddof=1)  \n",
    "n = len(response_times)\n",
    "\n",
    "z_stat = (sample_mean - mu_0) / (sample_std / np.sqrt(n))\n",
    "\n",
    "p_value = norm.cdf(z_stat)\n",
    "\n",
    "print(f\"Sample Mean: {sample_mean}\")\n",
    "print(f\"Sample Standard Deviation: {sample_std}\")\n",
    "print(f\"Z-Statistic: {z_stat}\")\n",
    "print(f\"P-Value: {p_value}\")\n",
    "\n",
    "alpha = 0.05\n",
    "\n",
    "if p_value < alpha:\n",
    "    print(\"Reject the null hypothesis: The average response time is significantly less than 5 minutes.\")\n",
    "else:\n",
    "    print(\"Fail to reject the null hypothesis: There is no significant evidence that the average response time is less than 5 minutes.\")\n"
   ]
  },
  {
   "cell_type": "markdown",
   "metadata": {},
   "source": [
    "15. A company is testing two different website layouts to see which one leads to higher click-through rates. Write a Python function to perform an A/B test analysis, including calculating the t-statistic, degrees of \n",
    "freedom, and p-value.\n",
    "\n",
    "\n",
    " Use the following data:\n",
    " ```python\n",
    " layout_a_clicks = [28, 32, 33, 29, 31, 34, 30, 35, 36, 37]\n",
    " layout_b_clicks = [40, 41, 38, 42, 39, 44, 43, 41, 45, 47]"
   ]
  },
  {
   "cell_type": "code",
   "execution_count": 3,
   "metadata": {},
   "outputs": [
    {
     "name": "stdout",
     "output_type": "stream",
     "text": [
      "Mean of Layout A: 32.5\n",
      "Mean of Layout B: 42.0\n",
      "T-Statistic: -7.298102156175071\n",
      "Degrees of Freedom: 17.879871863320876\n",
      "P-Value: 9.19659607134804e-07\n",
      "Reject the null hypothesis: There is a significant difference in click-through rates between the two layouts.\n"
     ]
    }
   ],
   "source": [
    "import numpy as np\n",
    "from scipy import stats\n",
    "\n",
    "def ab_test(layout_a_clicks, layout_b_clicks):\n",
    "    layout_a_clicks = np.array(layout_a_clicks)\n",
    "    layout_b_clicks = np.array(layout_b_clicks)\n",
    "    \n",
    "    mean_a = np.mean(layout_a_clicks)\n",
    "    mean_b = np.mean(layout_b_clicks)\n",
    "    var_a = np.var(layout_a_clicks, ddof=1)  \n",
    "    var_b = np.var(layout_b_clicks, ddof=1)  \n",
    "    n_a = len(layout_a_clicks)\n",
    "    n_b = len(layout_b_clicks)\n",
    "    \n",
    "    t_stat = (mean_a - mean_b) / np.sqrt((var_a/n_a) + (var_b/n_b))\n",
    "    \n",
    "    df = ((var_a/n_a + var_b/n_b) ** 2) / ((var_a**2 / ((n_a**2) * (n_a - 1))) + (var_b**2 / ((n_b**2) * (n_b - 1))))\n",
    "    \n",
    "    p_value = 2 * (1 - stats.t.cdf(abs(t_stat), df=df))\n",
    "    \n",
    "    print(f\"Mean of Layout A: {mean_a}\")\n",
    "    print(f\"Mean of Layout B: {mean_b}\")\n",
    "    print(f\"T-Statistic: {t_stat}\")\n",
    "    print(f\"Degrees of Freedom: {df}\")\n",
    "    print(f\"P-Value: {p_value}\")\n",
    "    \n",
    "    alpha = 0.05\n",
    "    \n",
    "    if p_value < alpha:\n",
    "        print(\"Reject the null hypothesis: There is a significant difference in click-through rates between the two layouts.\")\n",
    "    else:\n",
    "        print(\"Fail to reject the null hypothesis: There is no significant difference in click-through rates between the two layouts.\")\n",
    "\n",
    "layout_a_clicks = [28, 32, 33, 29, 31, 34, 30, 35, 36, 37]\n",
    "layout_b_clicks = [40, 41, 38, 42, 39, 44, 43, 41, 45, 47]\n",
    "\n",
    "ab_test(layout_a_clicks, layout_b_clicks)\n"
   ]
  },
  {
   "cell_type": "markdown",
   "metadata": {},
   "source": [
    "16. A pharmaceutical company wants to determine if a new drug is more effective than an existing drug in reducing cholesterol levels. Create a program to analyze the clinical trial data and calculate the t-statistic and p-value for the treatment effect.\n",
    "\n",
    "\n",
    "Use the following data of cholestrol level:\n",
    " ```python\n",
    " existing_drug_levels = [180, 182, 175, 185, 178, 176, 172, 184, 179, 183]\n",
    " new_drug_levels = [170, 172, 165, 168, 175, 173, 170, 178, 172, 176]\n",
    " ```"
   ]
  },
  {
   "cell_type": "code",
   "execution_count": 4,
   "metadata": {},
   "outputs": [
    {
     "name": "stdout",
     "output_type": "stream",
     "text": [
      "Mean of Existing Drug: 179.4\n",
      "Mean of New Drug: 171.9\n",
      "T-Statistic: 4.14048098620866\n",
      "Degrees of Freedom: 17.866770765582338\n",
      "P-Value: 0.0003114614472734534\n",
      "Reject the null hypothesis: The new drug is significantly more effective in reducing cholesterol levels.\n"
     ]
    }
   ],
   "source": [
    "import numpy as np\n",
    "from scipy import stats\n",
    "\n",
    "def analyze_treatment_effect(existing_drug_levels, new_drug_levels):\n",
    "    existing_drug_levels = np.array(existing_drug_levels)\n",
    "    new_drug_levels = np.array(new_drug_levels)\n",
    "\n",
    "    mean_existing = np.mean(existing_drug_levels)\n",
    "    mean_new = np.mean(new_drug_levels)\n",
    "    var_existing = np.var(existing_drug_levels, ddof=1)  \n",
    "    var_new = np.var(new_drug_levels, ddof=1)            \n",
    "    n_existing = len(existing_drug_levels)\n",
    "    n_new = len(new_drug_levels)\n",
    "\n",
    "    t_stat = (mean_existing - mean_new) / np.sqrt((var_existing/n_existing) + (var_new/n_new))\n",
    "\n",
    "    df = ((var_existing/n_existing + var_new/n_new) ** 2) / ((var_existing**2 / ((n_existing**2) * (n_existing - 1))) + (var_new**2 / ((n_new**2) * (n_new - 1))))\n",
    "\n",
    "    p_value = 1 - stats.t.cdf(t_stat, df=df)\n",
    "\n",
    "    print(f\"Mean of Existing Drug: {mean_existing}\")\n",
    "    print(f\"Mean of New Drug: {mean_new}\")\n",
    "    print(f\"T-Statistic: {t_stat}\")\n",
    "    print(f\"Degrees of Freedom: {df}\")\n",
    "    print(f\"P-Value: {p_value}\")\n",
    "\n",
    "    alpha = 0.05\n",
    "\n",
    "    if p_value < alpha:\n",
    "        print(\"Reject the null hypothesis: The new drug is significantly more effective in reducing cholesterol levels.\")\n",
    "    else:\n",
    "        print(\"Fail to reject the null hypothesis: There is no significant evidence that the new drug is more effective in reducing cholesterol levels.\")\n",
    "\n",
    "existing_drug_levels = [180, 182, 175, 185, 178, 176, 172, 184, 179, 183]\n",
    "new_drug_levels = [170, 172, 165, 168, 175, 173, 170, 178, 172, 176]\n",
    "\n",
    "analyze_treatment_effect(existing_drug_levels, new_drug_levels)\n"
   ]
  },
  {
   "cell_type": "markdown",
   "metadata": {},
   "source": [
    "17. A school district introduces an educational intervention program to improve math scores. Write a Python \n",
    "function to analyze pre- and post-intervention test scores, calculating the t-statistic and p-value to \n",
    "determine if the intervention had a significant impact.\n",
    " Use the following data of test score:\n",
    " ```python\n",
    "  pre_intervention_scores = [80, 85, 90, 75, 88, 82, 92, 78, 85, 87]\n",
    " post_intervention_scores = [90, 92, 88, 92, 95, 91, 96, 93, 89, 93]\n",
    " ```"
   ]
  },
  {
   "cell_type": "code",
   "execution_count": 5,
   "metadata": {},
   "outputs": [
    {
     "name": "stdout",
     "output_type": "stream",
     "text": [
      "T-statistic: 4.42840883965761\n",
      "P-value: 0.0016509548165795493\n",
      "The intervention had a significant impact on the math scores.\n"
     ]
    }
   ],
   "source": [
    "from scipy import stats\n",
    "\n",
    "def analyze_intervention(pre_scores, post_scores):\n",
    "    t_statistic, p_value = stats.ttest_rel(post_scores, pre_scores)\n",
    "    \n",
    "    return t_statistic, p_value\n",
    "\n",
    "\n",
    "pre_intervention_scores = [80, 85, 90, 75, 88, 82, 92, 78, 85, 87]\n",
    "post_intervention_scores = [90, 92, 88, 92, 95, 91, 96, 93, 89, 93]\n",
    "\n",
    "t_statistic, p_value = analyze_intervention(pre_intervention_scores, post_intervention_scores)\n",
    "\n",
    "print(f\"T-statistic: {t_statistic}\")\n",
    "print(f\"P-value: {p_value}\")\n",
    "\n",
    "alpha = 0.05\n",
    "if p_value < alpha:\n",
    "    print(\"The intervention had a significant impact on the math scores.\")\n",
    "else:\n",
    "    print(\"The intervention did not have a significant impact on the math scores.\")\n"
   ]
  },
  {
   "cell_type": "markdown",
   "metadata": {},
   "source": [
    "18. An HR department wants to investigate if there's a gender-based salary gap within the company. Develop a program to analyze salary data, calculate the t-statistic, and determine if there's a statistically \n",
    "significant difference between the average salaries of male and female employees.\n",
    "\n",
    " Use the below code to generate synthetic data:\n",
    " ```python\n",
    " # Generate synthetic salary data for male and female employees\n",
    " np.random.seed(0)  # For reproducibility\n",
    " male_salaries = np.random.normal(loc=50000, scale=10000, size=20)\n",
    " female_salaries = np.random.normal(loc=55000, scale=9000, size=20)\n",
    " ```"
   ]
  },
  {
   "cell_type": "code",
   "execution_count": 6,
   "metadata": {},
   "outputs": [
    {
     "name": "stdout",
     "output_type": "stream",
     "text": [
      "T-statistic: 0.06114208969631383\n",
      "P-value: 0.9515665020676465\n",
      "There is no statistically significant difference in average salaries between male and female employees.\n"
     ]
    }
   ],
   "source": [
    "import numpy as np\n",
    "from scipy import stats\n",
    "\n",
    "np.random.seed(0)  \n",
    "male_salaries = np.random.normal(loc=50000, scale=10000, size=20)\n",
    "female_salaries = np.random.normal(loc=55000, scale=9000, size=20)\n",
    "\n",
    "def analyze_salary_gap(male_salaries, female_salaries):\n",
    "    t_statistic, p_value = stats.ttest_ind(male_salaries, female_salaries)\n",
    "    \n",
    "    return t_statistic, p_value\n",
    "\n",
    "t_statistic, p_value = analyze_salary_gap(male_salaries, female_salaries)\n",
    "\n",
    "print(f\"T-statistic: {t_statistic}\")\n",
    "print(f\"P-value: {p_value}\")\n",
    "\n",
    "alpha = 0.05\n",
    "if p_value < alpha:\n",
    "    print(\"There is a statistically significant difference in average salaries between male and female employees.\")\n",
    "else:\n",
    "    print(\"There is no statistically significant difference in average salaries between male and female employees.\")\n"
   ]
  },
  {
   "cell_type": "markdown",
   "metadata": {},
   "source": [
    "19. A manufacturer produces two different versions of a product and wants to compare their quality scores. \n",
    "Create a Python function to analyze quality assessment data, calculate the t-statistic, and decide whether there's a significant difference in quality between the two versions.\n",
    " \n",
    " Use the following data:\n",
    " ```python\n",
    " version1_scores = [85, 88, 82, 89, 87, 84, 90, 88, 85, 86, 91, 83, 87, 84, 89, 86, 84, 88, 85, 86, 89, 90, 87, 88, 85]\n",
    " version2_scores = [80, 78, 83, 81, 79, 82, 76, 80, 78, 81, 77, 82, 80, 79, 82, 79, 80, 81, 79, 82, 79, 78, 80, 81, 82]\n",
    " ```"
   ]
  },
  {
   "cell_type": "code",
   "execution_count": 7,
   "metadata": {},
   "outputs": [
    {
     "name": "stdout",
     "output_type": "stream",
     "text": [
      "T-statistic: 11.325830417646698\n",
      "P-value: 3.6824250702873965e-15\n",
      "There is a statistically significant difference in quality between the two product versions.\n"
     ]
    }
   ],
   "source": [
    "from scipy import stats\n",
    "\n",
    "def analyze_quality_difference(version1_scores, version2_scores):\n",
    "    t_statistic, p_value = stats.ttest_ind(version1_scores, version2_scores)\n",
    "    \n",
    "    return t_statistic, p_value\n",
    "\n",
    "version1_scores = [85, 88, 82, 89, 87, 84, 90, 88, 85, 86, 91, 83, 87, 84, 89, 86, 84, 88, 85, 86, 89, 90, 87, 88, 85]\n",
    "version2_scores = [80, 78, 83, 81, 79, 82, 76, 80, 78, 81, 77, 82, 80, 79, 82, 79, 80, 81, 79, 82, 79, 78, 80, 81, 82]\n",
    "\n",
    "t_statistic, p_value = analyze_quality_difference(version1_scores, version2_scores)\n",
    "\n",
    "print(f\"T-statistic: {t_statistic}\")\n",
    "print(f\"P-value: {p_value}\")\n",
    "\n",
    "alpha = 0.05\n",
    "if p_value < alpha:\n",
    "    print(\"There is a statistically significant difference in quality between the two product versions.\")\n",
    "else:\n",
    "    print(\"There is no statistically significant difference in quality between the two product versions.\")\n"
   ]
  },
  {
   "cell_type": "markdown",
   "metadata": {},
   "source": [
    "20. A restaurant chain collects customer satisfaction scores for two different branches. Write a program to analyze the scores, calculate the t-statistic, and determine if there's a statistically significant difference in customer satisfaction between the branches.\n",
    " \n",
    " Use the below data of scores:\n",
    " ```python\n",
    " branch_a_scores = [4, 5, 3, 4, 5, 4, 5, 3, 4, 4, 5, 4, 4, 3, 4, 5, 5, 4, 3, 4, 5, 4, 3, 5, 4, 4, 5, 3, 4, 5, 4]\n",
    " branch_b_scores = [3, 4, 2, 3, 4, 3, 4, 2, 3, 3, 4, 3, 3, 2, 3, 4, 4, 3, 2, 3, 4, 3, 2, 4, 3, 3, 4, 2, 3, 4, 3]"
   ]
  },
  {
   "cell_type": "code",
   "execution_count": 8,
   "metadata": {},
   "outputs": [
    {
     "name": "stdout",
     "output_type": "stream",
     "text": [
      "T-statistic: 5.480077554195743\n",
      "P-value: 8.895290509945657e-07\n",
      "There is a statistically significant difference in customer satisfaction between the two branches.\n"
     ]
    }
   ],
   "source": [
    "from scipy import stats\n",
    "\n",
    "def analyze_satisfaction_difference(branch_a_scores, branch_b_scores):\n",
    "    t_statistic, p_value = stats.ttest_ind(branch_a_scores, branch_b_scores)\n",
    "    \n",
    "    return t_statistic, p_value\n",
    "\n",
    "branch_a_scores = [4, 5, 3, 4, 5, 4, 5, 3, 4, 4, 5, 4, 4, 3, 4, 5, 5, 4, 3, 4, 5, 4, 3, 5, 4, 4, 5, 3, 4, 5, 4]\n",
    "branch_b_scores = [3, 4, 2, 3, 4, 3, 4, 2, 3, 3, 4, 3, 3, 2, 3, 4, 4, 3, 2, 3, 4, 3, 2, 4, 3, 3, 4, 2, 3, 4, 3]\n",
    "\n",
    "t_statistic, p_value = analyze_satisfaction_difference(branch_a_scores, branch_b_scores)\n",
    "\n",
    "print(f\"T-statistic: {t_statistic}\")\n",
    "print(f\"P-value: {p_value}\")\n",
    "\n",
    "alpha = 0.05\n",
    "if p_value < alpha:\n",
    "    print(\"There is a statistically significant difference in customer satisfaction between the two branches.\")\n",
    "else:\n",
    "    print(\"There is no statistically significant difference in customer satisfaction between the two branches.\")\n"
   ]
  },
  {
   "cell_type": "markdown",
   "metadata": {},
   "source": [
    "21. A political analyst wants to determine if there is a significant association between age groups and voter preferences (Candidate A or Candidate B). They collect data from a sample of 500 voters and classify them into different age groups and candidate preferences. Perform a Chi-Square test to determine if there is a significant association between age groups and voter preferences.\n",
    " \n",
    " Use the below code to generate data:\n",
    " ```python\n",
    " np.random.seed(0)\n",
    " age_groups = np.random.choice(['18-30', '31-50', '51+', '51+'], size=30)\n",
    " voter_preferences = np.random.choice(['Candidate A', 'Candidate B'], size=30)"
   ]
  },
  {
   "cell_type": "code",
   "execution_count": 9,
   "metadata": {},
   "outputs": [
    {
     "name": "stdout",
     "output_type": "stream",
     "text": [
      "Contingency Table:\n",
      "Voter Preference  Candidate A  Candidate B\n",
      "Age Group                                 \n",
      "18-30                      95           87\n",
      "31-50                      87           82\n",
      "51+                        84           65\n",
      "\n",
      "Chi-Square Statistic: 0.8779923945254768\n",
      "P-value: 0.6446832311860852\n",
      "Degrees of Freedom: 2\n",
      "Expected Frequencies:\n",
      "[[96.824 85.176]\n",
      " [89.908 79.092]\n",
      " [79.268 69.732]]\n",
      "\n",
      "There is no statistically significant association between age groups and voter preferences.\n"
     ]
    }
   ],
   "source": [
    "import numpy as np\n",
    "import pandas as pd\n",
    "from scipy.stats import chi2_contingency\n",
    "\n",
    "np.random.seed(0)\n",
    "age_groups = np.random.choice(['18-30', '31-50', '51+'], size=500)\n",
    "voter_preferences = np.random.choice(['Candidate A', 'Candidate B'], size=500)\n",
    "\n",
    "data = pd.DataFrame({'Age Group': age_groups, 'Voter Preference': voter_preferences})\n",
    "contingency_table = pd.crosstab(data['Age Group'], data['Voter Preference'])\n",
    "\n",
    "chi2_stat, p_value, dof, expected = chi2_contingency(contingency_table)\n",
    "\n",
    "print(\"Contingency Table:\")\n",
    "print(contingency_table)\n",
    "print(f\"\\nChi-Square Statistic: {chi2_stat}\")\n",
    "print(f\"P-value: {p_value}\")\n",
    "print(f\"Degrees of Freedom: {dof}\")\n",
    "print(\"Expected Frequencies:\")\n",
    "print(expected)\n",
    "\n",
    "alpha = 0.05\n",
    "if p_value < alpha:\n",
    "    print(\"\\nThere is a statistically significant association between age groups and voter preferences.\")\n",
    "else:\n",
    "    print(\"\\nThere is no statistically significant association between age groups and voter preferences.\")\n"
   ]
  },
  {
   "cell_type": "markdown",
   "metadata": {},
   "source": [
    "22. A company conducted a customer satisfaction survey to determine if there is a significant relationship between product satisfaction levels (Satisfied, Neutral, Dissatisfied) and the region where customers are located (East, West, North, South). The survey data is summarized in a contingency table. Conduct a Chi-Square test to determine if there is a significant relationship between product satisfaction levels and \n",
    "customer regions.\n",
    " \n",
    " Sample data:\n",
    " ```python\n",
    " \n",
    " Sample data: Product satisfaction levels (rows) vs. Customer regions (columns)\n",
    " data = np.array([[50, 30, 40, 20], [30, 40, 30, 50], [20, 30, 40, 30]]\n",
    " ```"
   ]
  },
  {
   "cell_type": "code",
   "execution_count": 10,
   "metadata": {},
   "outputs": [
    {
     "name": "stdout",
     "output_type": "stream",
     "text": [
      "Chi-Square Statistic: 27.777056277056275\n",
      "P-value: 0.00010349448486004387\n",
      "Degrees of Freedom: 6\n",
      "Expected Frequencies:\n",
      "[[34.14634146 34.14634146 37.56097561 34.14634146]\n",
      " [36.58536585 36.58536585 40.24390244 36.58536585]\n",
      " [29.26829268 29.26829268 32.19512195 29.26829268]]\n",
      "\n",
      "There is a statistically significant relationship between product satisfaction levels and customer regions.\n"
     ]
    }
   ],
   "source": [
    "import numpy as np\n",
    "from scipy.stats import chi2_contingency\n",
    "\n",
    "data = np.array([[50, 30, 40, 20],  \n",
    "                 [30, 40, 30, 50],  \n",
    "                 [20, 30, 40, 30]]) \n",
    "\n",
    "chi2_stat, p_value, dof, expected = chi2_contingency(data)\n",
    "\n",
    "print(f\"Chi-Square Statistic: {chi2_stat}\")\n",
    "print(f\"P-value: {p_value}\")\n",
    "print(f\"Degrees of Freedom: {dof}\")\n",
    "print(\"Expected Frequencies:\")\n",
    "print(expected)\n",
    "\n",
    "alpha = 0.05\n",
    "if p_value < alpha:\n",
    "    print(\"\\nThere is a statistically significant relationship between product satisfaction levels and customer regions.\")\n",
    "else:\n",
    "    print(\"\\nThere is no statistically significant relationship between product satisfaction levels and customer regions.\")\n"
   ]
  },
  {
   "cell_type": "markdown",
   "metadata": {},
   "source": [
    "23. A company implemented an employee training program to improve job performance (Effective, Neutral, Ineffective). After the training, they collected data from a sample of employees and classified them based on their job performance before and after the training. Perform a Chi-Square test to determine if there is a significant difference between job performance levels before and after the training.\n",
    " Sample data:\n",
    " ```python\n",
    "  # Sample data: Job performance levels before (rows) and after (columns) training\n",
    " data = np.array([[50, 30, 20], [30, 40, 30], [20, 30, 40]])\n",
    " ```"
   ]
  },
  {
   "cell_type": "code",
   "execution_count": 11,
   "metadata": {},
   "outputs": [
    {
     "name": "stdout",
     "output_type": "stream",
     "text": [
      "Contingency Table:\n",
      "[[50 30 20]\n",
      " [30 40 30]\n",
      " [20 30 40]]\n",
      "\n",
      "Chi-Square Statistic: 22.161728395061726\n",
      "P-value: 0.00018609719479882554\n",
      "Degrees of Freedom: 4\n",
      "Expected Frequencies:\n",
      "[[34.48275862 34.48275862 31.03448276]\n",
      " [34.48275862 34.48275862 31.03448276]\n",
      " [31.03448276 31.03448276 27.93103448]]\n",
      "\n",
      "There is a statistically significant difference in job performance levels before and after the training.\n"
     ]
    }
   ],
   "source": [
    "import numpy as np\n",
    "from scipy.stats import chi2_contingency\n",
    "\n",
    "data = np.array([[50, 30, 20],  \n",
    "                 [30, 40, 30],  \n",
    "                 [20, 30, 40]]) \n",
    "\n",
    "chi2_stat, p_value, dof, expected = chi2_contingency(data)\n",
    "\n",
    "print(\"Contingency Table:\")\n",
    "print(data)\n",
    "print(f\"\\nChi-Square Statistic: {chi2_stat}\")\n",
    "print(f\"P-value: {p_value}\")\n",
    "print(f\"Degrees of Freedom: {dof}\")\n",
    "print(\"Expected Frequencies:\")\n",
    "print(expected)\n",
    "\n",
    "alpha = 0.05\n",
    "if p_value < alpha:\n",
    "    print(\"\\nThere is a statistically significant difference in job performance levels before and after the training.\")\n",
    "else:\n",
    "    print(\"\\nThere is no statistically significant difference in job performance levels before and after the training.\")\n"
   ]
  },
  {
   "cell_type": "markdown",
   "metadata": {},
   "source": [
    " 24. A company produces three different versions of a product: Standard, Premium, and Deluxe. The company wants to determine if there is a significant difference in customer satisfaction scores among the three product versions. They conducted a survey and collected customer satisfaction scores for each version from a random sample of customers. Perform an ANOVA test to determine if there is a significant difference in customer satisfaction scores.\n",
    " \n",
    " Use the following data:\n",
    " ```python\n",
    " # Sample data: Customer satisfaction scores for each product version\n",
    " standard_scores = [80, 85, 90, 78, 88, 82, 92, 78, 85, 87]\n",
    " premium_scores = [90, 92, 88, 92, 95, 91, 96, 93, 89, 93]\n",
    " deluxe_scores = [95, 98, 92, 97, 96, 94, 98, 97, 92, 99\n",
    " ```\n"
   ]
  },
  {
   "cell_type": "code",
   "execution_count": 12,
   "metadata": {},
   "outputs": [
    {
     "name": "stdout",
     "output_type": "stream",
     "text": [
      "F-statistic: 27.03556231003039\n",
      "P-value: 3.578632885734896e-07\n",
      "\n",
      "There is a statistically significant difference in customer satisfaction scores among the three product versions.\n"
     ]
    }
   ],
   "source": [
    "import numpy as np\n",
    "from scipy.stats import f_oneway\n",
    "\n",
    "standard_scores = [80, 85, 90, 78, 88, 82, 92, 78, 85, 87]\n",
    "premium_scores = [90, 92, 88, 92, 95, 91, 96, 93, 89, 93]\n",
    "deluxe_scores = [95, 98, 92, 97, 96, 94, 98, 97, 92, 99]\n",
    "\n",
    "f_statistic, p_value = f_oneway(standard_scores, premium_scores, deluxe_scores)\n",
    "\n",
    "print(f\"F-statistic: {f_statistic}\")\n",
    "print(f\"P-value: {p_value}\")\n",
    "\n",
    "alpha = 0.05\n",
    "if p_value < alpha:\n",
    "    print(\"\\nThere is a statistically significant difference in customer satisfaction scores among the three product versions.\")\n",
    "else:\n",
    "    print(\"\\nThere is no statistically significant difference in customer satisfaction scores among the three product versions.\")\n"
   ]
  },
  {
   "cell_type": "code",
   "execution_count": null,
   "metadata": {},
   "outputs": [],
   "source": []
  }
 ],
 "metadata": {
  "kernelspec": {
   "display_name": "Python 3",
   "language": "python",
   "name": "python3"
  },
  "language_info": {
   "codemirror_mode": {
    "name": "ipython",
    "version": 3
   },
   "file_extension": ".py",
   "mimetype": "text/x-python",
   "name": "python",
   "nbconvert_exporter": "python",
   "pygments_lexer": "ipython3",
   "version": "3.12.5"
  }
 },
 "nbformat": 4,
 "nbformat_minor": 2
}
